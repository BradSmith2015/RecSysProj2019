{
 "cells": [
  {
   "cell_type": "code",
   "execution_count": 1,
   "metadata": {},
   "outputs": [],
   "source": [
    "from lenskit import batch, topn, util\n",
    "from lenskit import crossfold as xf\n",
    "from lenskit.algorithms import Recommender, als, item_knn as knn\n",
    "from lenskit import topn\n",
    "import pandas as pd\n",
    "%matplotlib inline"
   ]
  },
  {
   "cell_type": "code",
   "execution_count": 2,
   "metadata": {},
   "outputs": [
    {
     "name": "stderr",
     "output_type": "stream",
     "text": [
      "/Users/i506000/anaconda3/lib/python3.7/site-packages/ipykernel_launcher.py:1: ParserWarning: Falling back to the 'python' engine because the 'c' engine does not support regex separators (separators > 1 char and different from '\\s+' are interpreted as regex); you can avoid this warning by specifying engine='python'.\n",
      "  \"\"\"Entry point for launching an IPython kernel.\n"
     ]
    },
    {
     "data": {
      "text/html": [
       "<div>\n",
       "<style scoped>\n",
       "    .dataframe tbody tr th:only-of-type {\n",
       "        vertical-align: middle;\n",
       "    }\n",
       "\n",
       "    .dataframe tbody tr th {\n",
       "        vertical-align: top;\n",
       "    }\n",
       "\n",
       "    .dataframe thead th {\n",
       "        text-align: right;\n",
       "    }\n",
       "</style>\n",
       "<table border=\"1\" class=\"dataframe\">\n",
       "  <thead>\n",
       "    <tr style=\"text-align: right;\">\n",
       "      <th></th>\n",
       "      <th>user</th>\n",
       "      <th>item</th>\n",
       "      <th>rating</th>\n",
       "    </tr>\n",
       "  </thead>\n",
       "  <tbody>\n",
       "    <tr>\n",
       "      <th>0</th>\n",
       "      <td>1</td>\n",
       "      <td>5</td>\n",
       "      <td>0.219</td>\n",
       "    </tr>\n",
       "    <tr>\n",
       "      <th>1</th>\n",
       "      <td>1</td>\n",
       "      <td>7</td>\n",
       "      <td>-9.281</td>\n",
       "    </tr>\n",
       "    <tr>\n",
       "      <th>2</th>\n",
       "      <td>1</td>\n",
       "      <td>8</td>\n",
       "      <td>-9.281</td>\n",
       "    </tr>\n",
       "    <tr>\n",
       "      <th>3</th>\n",
       "      <td>1</td>\n",
       "      <td>13</td>\n",
       "      <td>-6.781</td>\n",
       "    </tr>\n",
       "    <tr>\n",
       "      <th>4</th>\n",
       "      <td>1</td>\n",
       "      <td>15</td>\n",
       "      <td>0.875</td>\n",
       "    </tr>\n",
       "  </tbody>\n",
       "</table>\n",
       "</div>"
      ],
      "text/plain": [
       "   user  item  rating\n",
       "0     1     5   0.219\n",
       "1     1     7  -9.281\n",
       "2     1     8  -9.281\n",
       "3     1    13  -6.781\n",
       "4     1    15   0.875"
      ]
     },
     "execution_count": 2,
     "metadata": {},
     "output_type": "execute_result"
    }
   ],
   "source": [
    "ratings = pd.read_csv('dataSets/jester_dataset_2/jester_ratings.dat', sep='\\t\\t' , names=['user', 'item', 'rating'])\n",
    "ratings.head()"
   ]
  },
  {
   "cell_type": "code",
   "execution_count": 3,
   "metadata": {},
   "outputs": [
    {
     "name": "stdout",
     "output_type": "stream",
     "text": [
      "          user  item  rating\n",
      "0            1     5  10.219\n",
      "1            1     7   0.719\n",
      "2            1     8   0.719\n",
      "3            1    13   3.219\n",
      "4            1    15  10.875\n",
      "5            1    16   0.344\n",
      "6            1    17   0.969\n",
      "7            1    18   2.531\n",
      "8            1    19   1.281\n",
      "9            1    20   0.844\n",
      "10           1    21   2.812\n",
      "11           1    22   1.219\n",
      "12           1    23   1.469\n",
      "13           1    24   2.094\n",
      "14           1    25   2.531\n",
      "15           1    89  19.812\n",
      "16           1    50  19.906\n",
      "17           1   102  10.750\n",
      "18           1   103   5.000\n",
      "19           1   104  12.938\n",
      "20           1   105  12.000\n",
      "21           1   106   9.844\n",
      "22           1   107  12.031\n",
      "23           1   108  15.688\n",
      "24           1   109  19.656\n",
      "25           1    87  18.000\n",
      "26           1    93  19.312\n",
      "27           1    76  19.312\n",
      "28           1    65  18.781\n",
      "29           1    72  18.781\n",
      "...        ...   ...     ...\n",
      "1761409  63978    81  17.531\n",
      "1761410  63978   142  17.844\n",
      "1761411  63978    83  19.438\n",
      "1761412  63978    21   4.562\n",
      "1761413  63978    26  18.906\n",
      "1761414  63978    91  18.562\n",
      "1761415  63978    23  18.844\n",
      "1761416  63978   131  18.938\n",
      "1761417  63978    86   5.031\n",
      "1761418  63978    94   3.438\n",
      "1761419  63978    55   2.250\n",
      "1761420  63978    67   3.188\n",
      "1761421  63978    38   4.844\n",
      "1761422  63978   140   3.500\n",
      "1761423  63978    37   2.938\n",
      "1761424  63978    45   3.406\n",
      "1761425  63978   141   1.688\n",
      "1761426  63978    60   2.719\n",
      "1761427  63978   123   3.250\n",
      "1761428  63978    40  18.375\n",
      "1761429  63978    85   2.281\n",
      "1761430  63978    33   2.531\n",
      "1761431  63978   101   2.938\n",
      "1761432  63978    74   1.719\n",
      "1761433  63978    64   1.812\n",
      "1761434  63978    57   1.469\n",
      "1761435  63978    24   0.938\n",
      "1761436  63978   124   0.969\n",
      "1761437  63978    58   1.344\n",
      "1761438  63978    44   1.562\n",
      "\n",
      "[1761439 rows x 3 columns]\n"
     ]
    }
   ],
   "source": [
    "ratings.rating += 10\n",
    "print(ratings)"
   ]
  },
  {
   "cell_type": "code",
   "execution_count": 4,
   "metadata": {},
   "outputs": [],
   "source": [
    "algo_ii = knn.ItemItem(20)\n",
    "algo_als = als.BiasedMF(50)"
   ]
  },
  {
   "cell_type": "code",
   "execution_count": 5,
   "metadata": {},
   "outputs": [],
   "source": [
    "def eval(aname, algo, train, test):\n",
    "    fittable = util.clone(algo)\n",
    "    fittable = Recommender.adapt(fittable)\n",
    "    fittable.fit(train)\n",
    "    users = test.user.unique()\n",
    "    # now we run the recommender\n",
    "    recs = batch.recommend(fittable, users, 10)\n",
    "    # add the algorithm name for analyzability\n",
    "    recs['Algorithm'] = aname\n",
    "    return recs"
   ]
  },
  {
   "cell_type": "code",
   "execution_count": 6,
   "metadata": {},
   "outputs": [],
   "source": [
    "all_recs = []\n",
    "test_data = []\n",
    "for train, test in xf.partition_users(ratings[['user', 'item', 'rating']], 5, xf.SampleFrac(0.2)):\n",
    "    test_data.append(test)\n",
    "    all_recs.append(eval('ItemItem', algo_ii, train, test))"
   ]
  },
  {
   "cell_type": "code",
   "execution_count": 7,
   "metadata": {},
   "outputs": [
    {
     "name": "stdout",
     "output_type": "stream",
     "text": [
      "        item      score   user  rank Algorithm\n",
      "0         89  18.857313      9     1  ItemItem\n",
      "1         53  18.668875      9     2  ItemItem\n",
      "2        105  18.640842      9     3  ItemItem\n",
      "3         35  18.333825      9     4  ItemItem\n",
      "4        132  18.304901      9     5  ItemItem\n",
      "5        129  18.177356      9     6  ItemItem\n",
      "6         19  18.152216      9     7  ItemItem\n",
      "7         50  18.139066      9     8  ItemItem\n",
      "8         32  18.091278      9     9  ItemItem\n",
      "9         72  18.043625      9    10  ItemItem\n",
      "10       129  14.516198     10     1  ItemItem\n",
      "11       126  14.467068     10     2  ItemItem\n",
      "12       127  14.393447     10     3  ItemItem\n",
      "13        72  14.324526     10     4  ItemItem\n",
      "14       148  14.052576     10     5  ItemItem\n",
      "15       138  13.993088     10     6  ItemItem\n",
      "16       114  13.935749     10     7  ItemItem\n",
      "17       150  13.814655     10     8  ItemItem\n",
      "18       111  13.738967     10     9  ItemItem\n",
      "19       134  13.564794     10    10  ItemItem\n",
      "20       143  11.602602     22     1  ItemItem\n",
      "21       128  11.557968     22     2  ItemItem\n",
      "22        27  11.485869     22     3  ItemItem\n",
      "23        87  11.108384     22     4  ItemItem\n",
      "24       125  11.066789     22     5  ItemItem\n",
      "25       149  10.955024     22     6  ItemItem\n",
      "26       132  10.760646     22     7  ItemItem\n",
      "27       145  10.744264     22     8  ItemItem\n",
      "28       115  10.678632     22     9  ItemItem\n",
      "29        83  10.455773     22    10  ItemItem\n",
      "...      ...        ...    ...   ...       ...\n",
      "563470   105  12.894212  63955     1  ItemItem\n",
      "563471    53  12.877119  63955     2  ItemItem\n",
      "563472   104  12.712036  63955     3  ItemItem\n",
      "563473    68  12.619802  63955     4  ItemItem\n",
      "563474    62  12.574572  63955     5  ItemItem\n",
      "563475    27  12.543911  63955     6  ItemItem\n",
      "563476   126  12.500938  63955     7  ItemItem\n",
      "563477    50  12.457030  63955     8  ItemItem\n",
      "563478   117  12.422620  63955     9  ItemItem\n",
      "563479   134  12.371214  63955    10  ItemItem\n",
      "563480    35  11.583975  63964     1  ItemItem\n",
      "563481    53  11.510957  63964     2  ItemItem\n",
      "563482    72  11.438392  63964     3  ItemItem\n",
      "563483   108  11.198881  63964     4  ItemItem\n",
      "563484   132  11.185691  63964     5  ItemItem\n",
      "563485    69  11.127259  63964     6  ItemItem\n",
      "563486   134  11.122170  63964     7  ItemItem\n",
      "563487   117  11.095223  63964     8  ItemItem\n",
      "563488    68  11.058010  63964     9  ItemItem\n",
      "563489    76  10.876409  63964    10  ItemItem\n",
      "563490   105   8.592124  63976     1  ItemItem\n",
      "563491    53   8.573726  63976     2  ItemItem\n",
      "563492   129   8.437237  63976     3  ItemItem\n",
      "563493    89   8.427501  63976     4  ItemItem\n",
      "563494    35   8.422454  63976     5  ItemItem\n",
      "563495    32   8.367352  63976     6  ItemItem\n",
      "563496    72   8.355020  63976     7  ItemItem\n",
      "563497   104   8.299861  63976     8  ItemItem\n",
      "563498    68   8.223047  63976     9  ItemItem\n",
      "563499   106   8.175347  63976    10  ItemItem\n",
      "\n",
      "[563500 rows x 5 columns]\n"
     ]
    }
   ],
   "source": [
    "all_recs = pd.concat(all_recs, ignore_index=True)\n",
    "print(all_recs)"
   ]
  },
  {
   "cell_type": "code",
   "execution_count": 8,
   "metadata": {},
   "outputs": [],
   "source": [
    "test_data = pd.concat(test_data, ignore_index=True)"
   ]
  },
  {
   "cell_type": "code",
   "execution_count": 9,
   "metadata": {},
   "outputs": [
    {
     "name": "stderr",
     "output_type": "stream",
     "text": [
      "/Users/i506000/anaconda3/lib/python3.7/site-packages/lenskit/metrics/topn.py:104: RuntimeWarning: invalid value encountered in double_scalars\n",
      "  return achieved / ideal\n"
     ]
    },
    {
     "name": "stdout",
     "output_type": "stream",
     "text": [
      "                     ndcg\n",
      "user  Algorithm          \n",
      "1     ItemItem   0.149753\n",
      "2     ItemItem   0.220130\n",
      "3     ItemItem   0.000000\n",
      "4     ItemItem   0.000000\n",
      "5     ItemItem   0.330094\n",
      "6     ItemItem   0.029664\n",
      "7     ItemItem   0.230071\n",
      "8     ItemItem   0.213642\n",
      "9     ItemItem   0.004450\n",
      "10    ItemItem   0.063549\n",
      "11    ItemItem   0.000000\n",
      "12    ItemItem   0.000000\n",
      "13    ItemItem   0.349635\n",
      "14    ItemItem   0.000000\n",
      "15    ItemItem   0.000000\n",
      "16    ItemItem   0.000000\n",
      "17    ItemItem   0.250200\n",
      "18    ItemItem   0.239076\n",
      "19    ItemItem   0.000000\n",
      "22    ItemItem   0.219192\n",
      "23    ItemItem   0.371997\n",
      "24    ItemItem   0.000000\n",
      "25    ItemItem   0.278392\n",
      "26    ItemItem   0.018992\n",
      "27    ItemItem   0.000000\n",
      "28    ItemItem   0.318071\n",
      "29    ItemItem   0.144816\n",
      "33    ItemItem   0.417957\n",
      "35    ItemItem   0.000000\n",
      "37    ItemItem   0.475358\n",
      "...                   ...\n",
      "63940 ItemItem   0.369103\n",
      "63941 ItemItem   0.000000\n",
      "63943 ItemItem   0.000000\n",
      "63944 ItemItem   0.413998\n",
      "63945 ItemItem   0.000000\n",
      "63946 ItemItem   0.000000\n",
      "63947 ItemItem   0.571126\n",
      "63949 ItemItem   0.647305\n",
      "63950 ItemItem   0.343895\n",
      "63951 ItemItem   0.000000\n",
      "63952 ItemItem   0.192054\n",
      "63953 ItemItem   0.590850\n",
      "63955 ItemItem   0.187523\n",
      "63956 ItemItem   0.085938\n",
      "63957 ItemItem   0.000000\n",
      "63958 ItemItem   0.000000\n",
      "63960 ItemItem   0.145277\n",
      "63961 ItemItem   0.000000\n",
      "63962 ItemItem   0.456611\n",
      "63963 ItemItem   0.000000\n",
      "63964 ItemItem   0.760939\n",
      "63966 ItemItem   0.000000\n",
      "63969 ItemItem   0.000000\n",
      "63970 ItemItem   0.000000\n",
      "63973 ItemItem   0.000000\n",
      "63974 ItemItem   0.000000\n",
      "63975 ItemItem   0.000000\n",
      "63976 ItemItem   0.000000\n",
      "63977 ItemItem   0.000000\n",
      "63978 ItemItem   0.602234\n",
      "\n",
      "[56350 rows x 1 columns]\n"
     ]
    }
   ],
   "source": [
    "rla = topn.RecListAnalysis()\n",
    "rla.add_metric(topn.ndcg)\n",
    "results = rla.compute(all_recs, test_data)\n",
    "print(results)"
   ]
  },
  {
   "cell_type": "code",
   "execution_count": 10,
   "metadata": {},
   "outputs": [
    {
     "data": {
      "text/plain": [
       "Algorithm\n",
       "ItemItem    0.185229\n",
       "Name: ndcg, dtype: float64"
      ]
     },
     "execution_count": 10,
     "metadata": {},
     "output_type": "execute_result"
    }
   ],
   "source": [
    "results.groupby('Algorithm').ndcg.mean()"
   ]
  },
  {
   "cell_type": "code",
   "execution_count": 13,
   "metadata": {},
   "outputs": [],
   "source": [
    "with open(\"Output.txt\", \"w\") as text_file:\n",
    "    print(f\"Purchase Amount: {results}\", file=text_file)\n"
   ]
  },
  {
   "cell_type": "code",
   "execution_count": null,
   "metadata": {},
   "outputs": [],
   "source": [
    "predict_for_user(user, items, ratings=None)"
   ]
  }
 ],
 "metadata": {
  "kernelspec": {
   "display_name": "Python 3",
   "language": "python",
   "name": "python3"
  },
  "language_info": {
   "codemirror_mode": {
    "name": "ipython",
    "version": 3
   },
   "file_extension": ".py",
   "mimetype": "text/x-python",
   "name": "python",
   "nbconvert_exporter": "python",
   "pygments_lexer": "ipython3",
   "version": "3.7.1"
  }
 },
 "nbformat": 4,
 "nbformat_minor": 2
}
