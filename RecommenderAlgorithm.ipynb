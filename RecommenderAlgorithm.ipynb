{
 "cells": [
  {
   "cell_type": "code",
   "execution_count": 1,
   "metadata": {},
   "outputs": [],
   "source": [
    "from lenskit import batch, topn, util\n",
    "from lenskit import crossfold as xf\n",
    "from lenskit.algorithms import Recommender, als, item_knn as knn\n",
    "from lenskit import topn\n",
    "import pandas as pd\n",
    "%matplotlib inline"
   ]
  },
  {
   "cell_type": "code",
   "execution_count": 4,
   "metadata": {},
   "outputs": [
    {
     "data": {
      "text/html": [
       "<div>\n",
       "<style scoped>\n",
       "    .dataframe tbody tr th:only-of-type {\n",
       "        vertical-align: middle;\n",
       "    }\n",
       "\n",
       "    .dataframe tbody tr th {\n",
       "        vertical-align: top;\n",
       "    }\n",
       "\n",
       "    .dataframe thead th {\n",
       "        text-align: right;\n",
       "    }\n",
       "</style>\n",
       "<table border=\"1\" class=\"dataframe\">\n",
       "  <thead>\n",
       "    <tr style=\"text-align: right;\">\n",
       "      <th></th>\n",
       "      <th>user</th>\n",
       "      <th>item</th>\n",
       "      <th>rating</th>\n",
       "    </tr>\n",
       "  </thead>\n",
       "  <tbody>\n",
       "    <tr>\n",
       "      <th>0</th>\n",
       "      <td>1</td>\n",
       "      <td>5</td>\n",
       "      <td>0.219</td>\n",
       "    </tr>\n",
       "    <tr>\n",
       "      <th>1</th>\n",
       "      <td>1</td>\n",
       "      <td>7</td>\n",
       "      <td>-9.281</td>\n",
       "    </tr>\n",
       "    <tr>\n",
       "      <th>2</th>\n",
       "      <td>1</td>\n",
       "      <td>8</td>\n",
       "      <td>-9.281</td>\n",
       "    </tr>\n",
       "    <tr>\n",
       "      <th>3</th>\n",
       "      <td>1</td>\n",
       "      <td>13</td>\n",
       "      <td>-6.781</td>\n",
       "    </tr>\n",
       "    <tr>\n",
       "      <th>4</th>\n",
       "      <td>1</td>\n",
       "      <td>15</td>\n",
       "      <td>0.875</td>\n",
       "    </tr>\n",
       "  </tbody>\n",
       "</table>\n",
       "</div>"
      ],
      "text/plain": [
       "   user  item  rating\n",
       "0     1     5   0.219\n",
       "1     1     7  -9.281\n",
       "2     1     8  -9.281\n",
       "3     1    13  -6.781\n",
       "4     1    15   0.875"
      ]
     },
     "execution_count": 4,
     "metadata": {},
     "output_type": "execute_result"
    }
   ],
   "source": [
    "ratings = pd.read_csv('dataSets/jester_dataset_2/jester_ratings_formated.csv', skiprows=1, names=['user', 'item', 'rating'])\n",
    "ratings.head()"
   ]
  },
  {
   "cell_type": "code",
   "execution_count": 5,
   "metadata": {},
   "outputs": [
    {
     "name": "stdout",
     "output_type": "stream",
     "text": [
      "          user  item  rating\n",
      "0            1     5  10.219\n",
      "1            1     7   0.719\n",
      "2            1     8   0.719\n",
      "3            1    13   3.219\n",
      "4            1    15  10.875\n",
      "5            1    16   0.344\n",
      "6            1    17   0.969\n",
      "7            1    18   2.531\n",
      "8            1    19   1.281\n",
      "9            1    20   0.844\n",
      "10           1    21   2.812\n",
      "11           1    22   1.219\n",
      "12           1    23   1.469\n",
      "13           1    24   2.094\n",
      "14           1    25   2.531\n",
      "15           1    89  19.812\n",
      "16           1    50  19.906\n",
      "17           1   102  10.750\n",
      "18           1   103   5.000\n",
      "19           1   104  12.938\n",
      "20           1   105  12.000\n",
      "21           1   106   9.844\n",
      "22           1   107  12.031\n",
      "23           1   108  15.688\n",
      "24           1   109  19.656\n",
      "25           1    87  18.000\n",
      "26           1    93  19.312\n",
      "27           1    76  19.312\n",
      "28           1    65  18.781\n",
      "29           1    72  18.781\n",
      "...        ...   ...     ...\n",
      "1048546  39341   106  17.250\n",
      "1048547  39341    82  16.906\n",
      "1048548  39341    83   8.219\n",
      "1048549  39341    97   6.656\n",
      "1048550  39341    53  16.531\n",
      "1048551  39341    72  10.500\n",
      "1048552  39341    88  15.469\n",
      "1048553  39341   108  12.969\n",
      "1048554  39341   148   6.906\n",
      "1048555  39341   114  13.844\n",
      "1048556  39341    66  17.000\n",
      "1048557  39341   117  11.031\n",
      "1048558  39341    29  17.281\n",
      "1048559  39341    81  16.500\n",
      "1048560  39341    87   6.219\n",
      "1048561  39341   121  14.094\n",
      "1048562  39341    62  15.781\n",
      "1048563  39341   130   6.062\n",
      "1048564  39341   125  18.219\n",
      "1048565  39341   145   5.312\n",
      "1048566  39341   107  14.844\n",
      "1048567  39341    70   7.469\n",
      "1048568  39341   142   7.812\n",
      "1048569  39341    68  15.938\n",
      "1048570  39341   128  13.656\n",
      "1048571  39341    78  15.094\n",
      "1048572  39341   115  15.281\n",
      "1048573  39341    26  14.000\n",
      "1048574  39341    96   8.125\n",
      "1048575  39341    45   6.062\n",
      "\n",
      "[1048576 rows x 3 columns]\n"
     ]
    }
   ],
   "source": [
    "ratings.rating += 10\n",
    "print(ratings)"
   ]
  },
  {
   "cell_type": "code",
   "execution_count": 6,
   "metadata": {},
   "outputs": [],
   "source": [
    "algo_ii = knn.ItemItem(20)\n",
    "algo_als = als.BiasedMF(50)"
   ]
  },
  {
   "cell_type": "code",
   "execution_count": 7,
   "metadata": {},
   "outputs": [],
   "source": [
    "def eval(aname, algo, train, test):\n",
    "    fittable = util.clone(algo)\n",
    "    fittable = Recommender.adapt(fittable)\n",
    "    fittable.fit(train)\n",
    "    users = test.user.unique()\n",
    "    # now we run the recommender\n",
    "    recs = batch.recommend(fittable, users, 10)\n",
    "    # add the algorithm name for analyzability\n",
    "    recs['Algorithm'] = aname\n",
    "    return recs"
   ]
  },
  {
   "cell_type": "code",
   "execution_count": 8,
   "metadata": {},
   "outputs": [],
   "source": [
    "all_recs = []\n",
    "test_data = []\n",
    "for train, test in xf.partition_users(ratings[['user', 'item', 'rating']], 5, xf.SampleFrac(0.2)):\n",
    "    test_data.append(test)\n",
    "    all_recs.append(eval('ItemItem', algo_ii, train, test))"
   ]
  },
  {
   "cell_type": "code",
   "execution_count": 9,
   "metadata": {},
   "outputs": [
    {
     "name": "stdout",
     "output_type": "stream",
     "text": [
      "        item      score   user  rank Algorithm\n",
      "0         35   6.974737      3     1  ItemItem\n",
      "1        129   6.963921      3     2  ItemItem\n",
      "2         72   6.869047      3     3  ItemItem\n",
      "3         53   6.823492      3     4  ItemItem\n",
      "4         50   6.759644      3     5  ItemItem\n",
      "5         62   6.747216      3     6  ItemItem\n",
      "6        104   6.694772      3     7  ItemItem\n",
      "7         68   6.544909      3     8  ItemItem\n",
      "8         89   6.508654      3     9  ItemItem\n",
      "9         32   6.489921      3    10  ItemItem\n",
      "10       104  11.995918     29     1  ItemItem\n",
      "11       105  11.870688     29     2  ItemItem\n",
      "12       106  11.868314     29     3  ItemItem\n",
      "13        53  11.846710     29     4  ItemItem\n",
      "14       129  11.823658     29     5  ItemItem\n",
      "15        35  11.761600     29     6  ItemItem\n",
      "16       126  11.747223     29     7  ItemItem\n",
      "17       114  11.594355     29     8  ItemItem\n",
      "18        50  11.555082     29     9  ItemItem\n",
      "19        49  11.422507     29    10  ItemItem\n",
      "20       122   9.646704     33     1  ItemItem\n",
      "21        61   9.436478     33     2  ItemItem\n",
      "22        28   9.348559     33     3  ItemItem\n",
      "23       137   9.118091     33     4  ItemItem\n",
      "24        23   9.090206     33     5  ItemItem\n",
      "25       133   8.996749     33     6  ItemItem\n",
      "26        70   8.953720     33     7  ItemItem\n",
      "27       109   8.849726     33     8  ItemItem\n",
      "28       144   8.831799     33     9  ItemItem\n",
      "29        77   8.579439     33    10  ItemItem\n",
      "...      ...        ...    ...   ...       ...\n",
      "348940    72  13.841305  39332     1  ItemItem\n",
      "348941    35  13.598902  39332     2  ItemItem\n",
      "348942   132  13.418186  39332     3  ItemItem\n",
      "348943    69  13.296796  39332     4  ItemItem\n",
      "348944    29  13.174865  39332     5  ItemItem\n",
      "348945   127  13.144683  39332     6  ItemItem\n",
      "348946    50  13.121838  39332     7  ItemItem\n",
      "348947   148  13.119064  39332     8  ItemItem\n",
      "348948   134  13.107378  39332     9  ItemItem\n",
      "348949    21  13.045629  39332    10  ItemItem\n",
      "348950   105  14.431082  39334     1  ItemItem\n",
      "348951   104  14.413523  39334     2  ItemItem\n",
      "348952    32  14.365122  39334     3  ItemItem\n",
      "348953    72  14.201850  39334     4  ItemItem\n",
      "348954   148  14.161220  39334     5  ItemItem\n",
      "348955    35  14.144223  39334     6  ItemItem\n",
      "348956   127  14.139767  39334     7  ItemItem\n",
      "348957   129  14.008324  39334     8  ItemItem\n",
      "348958   106  13.977452  39334     9  ItemItem\n",
      "348959    68  13.895649  39334    10  ItemItem\n",
      "348960    32  15.088085  39341     1  ItemItem\n",
      "348961   104  14.886010  39341     2  ItemItem\n",
      "348962    54  14.513945  39341     3  ItemItem\n",
      "348963    72  14.463057  39341     4  ItemItem\n",
      "348964    50  14.349444  39341     5  ItemItem\n",
      "348965   138  14.107738  39341     6  ItemItem\n",
      "348966    69  14.070535  39341     7  ItemItem\n",
      "348967   117  14.049206  39341     8  ItemItem\n",
      "348968   126  14.042717  39341     9  ItemItem\n",
      "348969    93  13.990114  39341    10  ItemItem\n",
      "\n",
      "[348970 rows x 5 columns]\n"
     ]
    }
   ],
   "source": [
    "all_recs = pd.concat(all_recs, ignore_index=True)\n",
    "print(all_recs)"
   ]
  },
  {
   "cell_type": "code",
   "execution_count": 10,
   "metadata": {},
   "outputs": [],
   "source": [
    "test_data = pd.concat(test_data, ignore_index=True)"
   ]
  },
  {
   "cell_type": "code",
   "execution_count": 11,
   "metadata": {},
   "outputs": [
    {
     "name": "stderr",
     "output_type": "stream",
     "text": [
      "/home/user/anaconda3/lib/python3.7/site-packages/lenskit/metrics/topn.py:104: RuntimeWarning: invalid value encountered in double_scalars\n",
      "  return achieved / ideal\n"
     ]
    },
    {
     "name": "stdout",
     "output_type": "stream",
     "text": [
      "                     ndcg\n",
      "user  Algorithm          \n",
      "1     ItemItem   0.171626\n",
      "2     ItemItem   0.092933\n",
      "3     ItemItem   0.000000\n",
      "4     ItemItem   0.000000\n",
      "5     ItemItem   0.000000\n",
      "6     ItemItem   0.335677\n",
      "7     ItemItem   0.151409\n",
      "8     ItemItem   0.300445\n",
      "9     ItemItem   0.004761\n",
      "10    ItemItem   0.255973\n",
      "11    ItemItem   0.000000\n",
      "12    ItemItem   0.000000\n",
      "13    ItemItem   0.424505\n",
      "14    ItemItem   0.000000\n",
      "15    ItemItem   0.000000\n",
      "16    ItemItem   0.133010\n",
      "17    ItemItem   0.428256\n",
      "18    ItemItem   0.000000\n",
      "19    ItemItem   0.000000\n",
      "22    ItemItem   0.100797\n",
      "23    ItemItem   0.450610\n",
      "24    ItemItem   0.000000\n",
      "25    ItemItem   0.107793\n",
      "26    ItemItem   0.000000\n",
      "27    ItemItem   0.000000\n",
      "28    ItemItem   0.000000\n",
      "29    ItemItem   0.000000\n",
      "33    ItemItem   0.392178\n",
      "35    ItemItem   0.000000\n",
      "37    ItemItem   0.419494\n",
      "...                   ...\n",
      "39310 ItemItem   0.000000\n",
      "39311 ItemItem   0.356652\n",
      "39312 ItemItem   0.000000\n",
      "39313 ItemItem   0.000000\n",
      "39314 ItemItem   0.564999\n",
      "39315 ItemItem   0.263051\n",
      "39316 ItemItem   0.549786\n",
      "39317 ItemItem   0.000000\n",
      "39318 ItemItem   0.441401\n",
      "39319 ItemItem   0.134174\n",
      "39320 ItemItem   0.000000\n",
      "39321 ItemItem   0.117802\n",
      "39322 ItemItem   0.192754\n",
      "39323 ItemItem   0.000000\n",
      "39324 ItemItem   0.000000\n",
      "39327 ItemItem   0.000000\n",
      "39328 ItemItem   0.000000\n",
      "39329 ItemItem   0.498429\n",
      "39330 ItemItem   0.000000\n",
      "39331 ItemItem   0.203167\n",
      "39332 ItemItem   0.169839\n",
      "39333 ItemItem   0.706505\n",
      "39334 ItemItem   0.000000\n",
      "39335 ItemItem   0.572432\n",
      "39336 ItemItem   0.331335\n",
      "39337 ItemItem   0.424603\n",
      "39338 ItemItem   0.503961\n",
      "39339 ItemItem   0.284636\n",
      "39340 ItemItem   0.000000\n",
      "39341 ItemItem   0.174038\n",
      "\n",
      "[34897 rows x 1 columns]\n"
     ]
    }
   ],
   "source": [
    "rla = topn.RecListAnalysis()\n",
    "rla.add_metric(topn.ndcg)\n",
    "results = rla.compute(all_recs, test_data)\n",
    "print(results)"
   ]
  },
  {
   "cell_type": "code",
   "execution_count": 12,
   "metadata": {},
   "outputs": [
    {
     "data": {
      "text/plain": [
       "Algorithm\n",
       "ItemItem    0.156411\n",
       "Name: ndcg, dtype: float64"
      ]
     },
     "execution_count": 12,
     "metadata": {},
     "output_type": "execute_result"
    }
   ],
   "source": [
    "results.groupby('Algorithm').ndcg.mean()"
   ]
  },
  {
   "cell_type": "code",
   "execution_count": 13,
   "metadata": {},
   "outputs": [],
   "source": [
    "with open(\"Output.txt\", \"w\") as text_file:\n",
    "    print(f\"Purchase Amount: {results}\", file=text_file)\n"
   ]
  },
  {
   "cell_type": "code",
   "execution_count": 14,
   "metadata": {},
   "outputs": [
    {
     "ename": "NameError",
     "evalue": "name 'predict_for_user' is not defined",
     "traceback": [
      "\u001b[0;31m---------------------------------------------------------------------------\u001b[0m",
      "\u001b[0;31mNameError\u001b[0m                                 Traceback (most recent call last)",
      "\u001b[0;32m<ipython-input-14-7225dc993fe4>\u001b[0m in \u001b[0;36m<module>\u001b[0;34m\u001b[0m\n\u001b[0;32m----> 1\u001b[0;31m \u001b[0mpredict_for_user\u001b[0m\u001b[0;34m(\u001b[0m\u001b[0muser\u001b[0m\u001b[0;34m,\u001b[0m \u001b[0mitems\u001b[0m\u001b[0;34m,\u001b[0m \u001b[0mratings\u001b[0m\u001b[0;34m=\u001b[0m\u001b[0;32mNone\u001b[0m\u001b[0;34m)\u001b[0m\u001b[0;34m\u001b[0m\u001b[0;34m\u001b[0m\u001b[0m\n\u001b[0m",
      "\u001b[0;31mNameError\u001b[0m: name 'predict_for_user' is not defined"
     ],
     "output_type": "error"
    }
   ],
   "source": [
    "predict_for_user(user, items, ratings=None)"
   ]
  },
  {
   "cell_type": "code",
   "execution_count": null,
   "metadata": {},
   "outputs": [],
   "source": []
  }
 ],
 "metadata": {
  "kernelspec": {
   "display_name": "Python 3",
   "language": "python",
   "name": "python3"
  },
  "language_info": {
   "codemirror_mode": {
    "name": "ipython",
    "version": 3
   },
   "file_extension": ".py",
   "mimetype": "text/x-python",
   "name": "python",
   "nbconvert_exporter": "python",
   "pygments_lexer": "ipython3",
   "version": "3.7.1"
  }
 },
 "nbformat": 4,
 "nbformat_minor": 2
}
