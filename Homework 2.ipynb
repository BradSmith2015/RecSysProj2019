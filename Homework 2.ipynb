{
 "cells": [
  {
   "cell_type": "markdown",
   "metadata": {},
   "source": [
    "# Homework 2\n",
    "- INFO 4871 _or_ INFO 5871 (indicate)\n",
    "- Spring 2019\n",
    "- _Aaron Barge_"
   ]
  },
  {
   "cell_type": "markdown",
   "metadata": {},
   "source": [
    "## Objective (all students)\n",
    "The object of this assignment is to implement a basic user-knn recommendation algorithm as a Python class. I am supplying six files to help you do this:\n",
    "\n",
    "- This file (Jupyter notebook) acts a driver for your class. You will run this notebook _last_ after your implementation is complete to demonstrate that it works.\n",
    "- The python file `User_KNN.py`, which contains a commented implementation skeleton of the `User_KNN` class. You will finish out this implementation. \n",
    "- The python file `test_User_KNN.py`, which contains an incomplete unit test for the `User_KNN` class.\n",
    "- The Excel file `test_data.xlsx`. You will use this to compute by hand the missing correct values for the tests `test_similarities_hwk2` and `test_predictions_hwk2`. \n",
    "- The file `test_ratings.csv`, which contains the same ratings as in the `test_data.xlsx` file.\n",
    "- The file `ratings_film_3.txt`, which contains movie ratings from the FilmTrust data set. \n",
    "\n",
    "Turn in the following in a zip file:\n",
    "\n",
    "- Homework 2.html file computed from this worksheet after your implementation is complete.\n",
    "- Homework 2.ipynb (this file) run after your implementation is complete.\n",
    "- test_User_KNN.py file with the test functions complete and working with your User_KNN implementation\n",
    "- User_KNN.py file with completed implementation\n",
    "- test_data.xslx file showing the values needed for the test case computed"
   ]
  },
  {
   "cell_type": "markdown",
   "metadata": {},
   "source": [
    "## Objective (INFO 5871 only)\n",
    "In addition to the objectives above, you will implement a second user-knn recommendation algorithm named `User_KNN2`. This one will add the following features to the implementation described above:\n",
    "\n",
    "- Default prediction. If there are fewer than `min_users` in the prediction neighborhood, the algorithm will return the item mean as the prediction, rather than computing a prediction.\n",
    "- Shrinkage. The algorithm will implement similarity shrinkage as described in class. All similarities scores will be multiplied by $\\frac{|P_u \\cap P_v|}{\\beta + |P_u \\cap P_v|}$, where $\\beta$ is supplied in the constructor.\n",
    "- Generalized labels. The code in `User_KNN.py` assumes that the data frame given to `fit` has columns `'userId'`, `'movieId'` and `'rating'`. `User_KNN2` will accept data frames with arbitrary column names, and the mapping of labels to user, item, and rating is input to the constructor.\n",
    "- You will write your own unit test for `User_KNN2`, which contains all of the same tests as `test_User_KNN` but with the correct values as computed in a second page of the `test_data.xslx` spreadsheet.\n",
    "\n",
    "Turn in the following in a zip file:\n",
    "\n",
    "- Everything from the \"all students\" objective above.\n",
    "- User_KNN2.py implementation\n",
    "- test_User_KNN2.py implementation working with your User_KNN2 implementation"
   ]
  },
  {
   "cell_type": "code",
   "execution_count": 1,
   "metadata": {},
   "outputs": [],
   "source": [
    "import pandas as pd\n",
    "import matplotlib.pyplot as plt\n",
    "import numpy as np\n",
    "import logging\n",
    "from heapq import nlargest\n",
    "%matplotlib inline\n"
   ]
  },
  {
   "cell_type": "code",
   "execution_count": 2,
   "metadata": {},
   "outputs": [],
   "source": [
    "%load_ext autoreload\n",
    "# %aimport User_KNN\n",
    "# %autoreload 2\n",
    "\n",
    "from User_KNN import User_KNN"
   ]
  },
  {
   "cell_type": "code",
   "execution_count": 3,
   "metadata": {},
   "outputs": [],
   "source": [
    "import unittest\n",
    "from test_User_KNN import test_User_KNN\n",
    "\n",
    "%aimport test_User_KNN"
   ]
  },
  {
   "cell_type": "code",
   "execution_count": 4,
   "metadata": {},
   "outputs": [
    {
     "name": "stderr",
     "output_type": "stream",
     "text": [
      "test_get_items (test_User_KNN.test_User_KNN) ... ok\n",
      "test_get_overlap (test_User_KNN.test_User_KNN) ... ok\n",
      "test_get_profile (test_User_KNN.test_User_KNN) ... ok\n",
      "test_get_profile_length (test_User_KNN.test_User_KNN) ... ok\n",
      "test_get_profile_mean (test_User_KNN.test_User_KNN) ... ok\n",
      "test_get_rating (test_User_KNN.test_User_KNN) ... ok\n",
      "test_get_users (test_User_KNN.test_User_KNN) ... ok\n",
      "test_neighbors (test_User_KNN.test_User_KNN) ... ok\n",
      "test_predict (test_User_KNN.test_User_KNN) ... ok\n",
      "test_predict_hwk2 (test_User_KNN.test_User_KNN) ... ok\n",
      "test_similarities (test_User_KNN.test_User_KNN) ... ok\n",
      "test_similarities_hwk2 (test_User_KNN.test_User_KNN) ... ok\n",
      "\n",
      "----------------------------------------------------------------------\n",
      "Ran 12 tests in 0.519s\n",
      "\n",
      "OK\n"
     ]
    },
    {
     "data": {
      "text/plain": [
       "<unittest.runner.TextTestResult run=12 errors=0 failures=0>"
      ]
     },
     "execution_count": 4,
     "metadata": {},
     "output_type": "execute_result"
    }
   ],
   "source": [
    "suite = unittest.TestLoader().loadTestsFromTestCase(test_User_KNN.test_User_KNN)\n",
    "runner = unittest.TextTestRunner(verbosity=2)\n",
    "runner.run(suite)"
   ]
  },
  {
   "cell_type": "markdown",
   "metadata": {},
   "source": [
    "### Load the FilmTrust ratings\n",
    "Should be 301 users"
   ]
  },
  {
   "cell_type": "code",
   "execution_count": 22,
   "metadata": {},
   "outputs": [
    {
     "data": {
      "text/html": [
       "<div>\n",
       "<style scoped>\n",
       "    .dataframe tbody tr th:only-of-type {\n",
       "        vertical-align: middle;\n",
       "    }\n",
       "\n",
       "    .dataframe tbody tr th {\n",
       "        vertical-align: top;\n",
       "    }\n",
       "\n",
       "    .dataframe thead th {\n",
       "        text-align: right;\n",
       "    }\n",
       "</style>\n",
       "<table border=\"1\" class=\"dataframe\">\n",
       "  <thead>\n",
       "    <tr style=\"text-align: right;\">\n",
       "      <th></th>\n",
       "      <th>userId</th>\n",
       "      <th>movieId</th>\n",
       "      <th>rating</th>\n",
       "    </tr>\n",
       "  </thead>\n",
       "  <tbody>\n",
       "    <tr>\n",
       "      <th>0</th>\n",
       "      <td>750</td>\n",
       "      <td>205</td>\n",
       "      <td>0.5</td>\n",
       "    </tr>\n",
       "    <tr>\n",
       "      <th>1</th>\n",
       "      <td>750</td>\n",
       "      <td>214</td>\n",
       "      <td>0.5</td>\n",
       "    </tr>\n",
       "    <tr>\n",
       "      <th>2</th>\n",
       "      <td>750</td>\n",
       "      <td>220</td>\n",
       "      <td>0.5</td>\n",
       "    </tr>\n",
       "    <tr>\n",
       "      <th>3</th>\n",
       "      <td>750</td>\n",
       "      <td>256</td>\n",
       "      <td>0.5</td>\n",
       "    </tr>\n",
       "    <tr>\n",
       "      <th>4</th>\n",
       "      <td>750</td>\n",
       "      <td>250</td>\n",
       "      <td>0.5</td>\n",
       "    </tr>\n",
       "  </tbody>\n",
       "</table>\n",
       "</div>"
      ],
      "text/plain": [
       "   userId  movieId  rating\n",
       "0     750      205     0.5\n",
       "1     750      214     0.5\n",
       "2     750      220     0.5\n",
       "3     750      256     0.5\n",
       "4     750      250     0.5"
      ]
     },
     "execution_count": 22,
     "metadata": {},
     "output_type": "execute_result"
    }
   ],
   "source": [
    "ratings = pd.read_csv('ratings_film_3.csv', sep='\\s+', names=['userId','movieId','rating'])\n",
    "len(ratings['userId'].unique())\n",
    "ratings.head()"
   ]
  },
  {
   "cell_type": "code",
   "execution_count": 31,
   "metadata": {},
   "outputs": [
    {
     "data": {
      "text/plain": [
       "269"
      ]
     },
     "execution_count": 31,
     "metadata": {},
     "output_type": "execute_result"
    }
   ],
   "source": [
    "ratings = pd.read_csv('jester_ratings_300.csv', sep=',', header=0, names=['userId','movieId','rating'])\n",
    "len(ratings['userId'].unique())\n",
    "# ratings.head()"
   ]
  },
  {
   "cell_type": "code",
   "execution_count": 32,
   "metadata": {},
   "outputs": [
    {
     "data": {
      "text/plain": [
       "RangeIndex(start=0, stop=11349, step=1)"
      ]
     },
     "execution_count": 32,
     "metadata": {},
     "output_type": "execute_result"
    }
   ],
   "source": [
    "type(ratings)\n",
    "ratings.index"
   ]
  },
  {
   "cell_type": "markdown",
   "metadata": {},
   "source": [
    "### Set up the algorithm\n",
    "Note this is pretty slow. It could take 10-20 minutes or longer depending on your hardware. It prints out every 10 uesrs, so you can estimate how long it will take to process all 301 of them."
   ]
  },
  {
   "cell_type": "code",
   "execution_count": 33,
   "metadata": {},
   "outputs": [],
   "source": [
    "alg = User_KNN(20, sim_threshold=0)\n",
    "alg.fit(ratings)"
   ]
  },
  {
   "cell_type": "code",
   "execution_count": 40,
   "metadata": {},
   "outputs": [
    {
     "data": {
      "text/plain": [
       "<User_KNN.User_KNN at 0x1197c03c8>"
      ]
     },
     "execution_count": 40,
     "metadata": {},
     "output_type": "execute_result"
    }
   ],
   "source": []
  },
  {
   "cell_type": "code",
   "execution_count": 37,
   "metadata": {},
   "outputs": [
    {
     "data": {
      "text/plain": [
       "2     0.684336\n",
       "4     0.684336\n",
       "9     0.684336\n",
       "11    0.684336\n",
       "dtype: float64"
      ]
     },
     "execution_count": 37,
     "metadata": {},
     "output_type": "execute_result"
    }
   ],
   "source": [
    "alg.predict_for_user(870, [2,4,9,11])"
   ]
  },
  {
   "cell_type": "code",
   "execution_count": 45,
   "metadata": {},
   "outputs": [
    {
     "data": {
      "text/plain": [
       "1    0.887219\n",
       "3    0.887219\n",
       "4    0.887219\n",
       "1    0.887219\n",
       "dtype: float64"
      ]
     },
     "execution_count": 45,
     "metadata": {},
     "output_type": "execute_result"
    }
   ],
   "source": [
    "alg.predict_for_user(871, [1,3,4,1])"
   ]
  },
  {
   "cell_type": "code",
   "execution_count": null,
   "metadata": {},
   "outputs": [],
   "source": []
  },
  {
   "cell_type": "code",
   "execution_count": null,
   "metadata": {},
   "outputs": [],
   "source": []
  }
 ],
 "metadata": {
  "kernelspec": {
   "display_name": "Python 3",
   "language": "python",
   "name": "python3"
  },
  "language_info": {
   "codemirror_mode": {
    "name": "ipython",
    "version": 3
   },
   "file_extension": ".py",
   "mimetype": "text/x-python",
   "name": "python",
   "nbconvert_exporter": "python",
   "pygments_lexer": "ipython3",
   "version": "3.7.1"
  }
 },
 "nbformat": 4,
 "nbformat_minor": 2
}
